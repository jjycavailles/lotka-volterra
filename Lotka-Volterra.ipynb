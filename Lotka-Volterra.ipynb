{
 "cells": [
  {
   "cell_type": "code",
   "execution_count": 1,
   "id": "0402d14a",
   "metadata": {},
   "outputs": [],
   "source": [
    "import numpy as np\n",
    "import matplotlib.pyplot as plt\n",
    "import ipywidgets as widgets\n",
    "from ipywidgets import Layout\n",
    "from io import BytesIO"
   ]
  },
  {
   "cell_type": "code",
   "execution_count": 2,
   "id": "fee44391",
   "metadata": {},
   "outputs": [],
   "source": [
    "x0 = 0.5\n",
    "y0 = 0.5\n",
    "Init = np.array([x0, y0])\n",
    "tFinal = 100\n",
    "nbreStep = 1001\n",
    "T = np.linspace(0, tFinal, nbreStep)"
   ]
  },
  {
   "cell_type": "code",
   "execution_count": 3,
   "id": "1c6276ff",
   "metadata": {},
   "outputs": [],
   "source": [
    "def F(X, Param):\n",
    "    x,y = X\n",
    "    alpha, beta, gamma, delta = Param\n",
    "    return np.array([alpha*x - beta*x*y, delta*x*y - gamma*y])"
   ]
  },
  {
   "cell_type": "code",
   "execution_count": 4,
   "id": "47680bb1",
   "metadata": {},
   "outputs": [],
   "source": [
    "def solve(Init, T, Param):\n",
    "    dt = T[1] - T[0]\n",
    "    XX = np.zeros((nbreStep,2))\n",
    "    XX[0] = Init\n",
    "    for i in range(nbreStep-1):\n",
    "        XX[i+1] = XX[i] + dt*F(XX[i], Param)\n",
    "    return XX"
   ]
  },
  {
   "cell_type": "code",
   "execution_count": 5,
   "id": "4f27f444",
   "metadata": {},
   "outputs": [],
   "source": [
    "def plot(XX, show = False):\n",
    "    plt.plot(T, XX)\n",
    "    if(show):\n",
    "        plt.show()\n",
    "    return"
   ]
  },
  {
   "cell_type": "raw",
   "id": "950bab7a",
   "metadata": {},
   "source": [
    "Param = [.2, .3, .4, .5]\n",
    "XX = solve(Init, T, Param)\n",
    "plot(XX)"
   ]
  },
  {
   "cell_type": "markdown",
   "id": "b96f4d74",
   "metadata": {},
   "source": [
    "### Dashboard"
   ]
  },
  {
   "cell_type": "code",
   "execution_count": 6,
   "id": "86e9be37",
   "metadata": {},
   "outputs": [],
   "source": [
    "alpha0 = 0.6\n",
    "beta0 = 0.6\n",
    "gamma0 = 0.6\n",
    "delta0 = 0.6"
   ]
  },
  {
   "cell_type": "code",
   "execution_count": 7,
   "id": "afeef2ca",
   "metadata": {},
   "outputs": [],
   "source": [
    "class Select_box(widgets.VBox):\n",
    "    def __init__(self, dashboard):\n",
    "        \n",
    "        import numpy as np\n",
    "        \n",
    "        self.dashboard = dashboard\n",
    "\n",
    "        self.selection_alpha = widgets.FloatSlider(min = 0, max = 1, description = \"alpha\", value = alpha0)\n",
    "        self.selection_alpha.observe(dashboard.on_alpha_selected, names = \"value\")\n",
    "\n",
    "        self.selection_beta = widgets.FloatSlider(min = 0, max = 1, description = \"beta\", value = beta0)\n",
    "        self.selection_beta.observe(dashboard.on_beta_selected, names = \"value\")\n",
    "        \n",
    "        self.selection_gamma = widgets.FloatSlider(min = 0, max = 1, description = \"gamma\", value = gamma0)\n",
    "        self.selection_gamma.observe(dashboard.on_gamma_selected, names = \"value\")\n",
    "        \n",
    "        self.selection_delta = widgets.FloatSlider(min = 0, max = 1, description = \"delta\", value = delta0)\n",
    "        self.selection_delta.observe(dashboard.on_delta_selected, names = \"value\")\n",
    "        \n",
    "        children = [\n",
    "        self.selection_alpha,\n",
    "        self.selection_beta,\n",
    "        self.selection_gamma,\n",
    "        self.selection_delta,\n",
    "        ]\n",
    "        super().__init__(children, layout=Layout(width=\"100%\"))"
   ]
  },
  {
   "cell_type": "code",
   "execution_count": 8,
   "id": "912d00bf",
   "metadata": {},
   "outputs": [],
   "source": [
    "class Image_box(widgets.Box):\n",
    "    def __init__(self, dashboard):\n",
    "        #%pip install matplotlib\n",
    "        #import matplotlib.pyplot as plt\n",
    "        self.image = widgets.Image()\n",
    "        self.dashboard = dashboard\n",
    "        \n",
    "        self.alpha = self.dashboard.alpha\n",
    "        self.beta = self.dashboard.beta\n",
    "        self.gamma = self.dashboard.gamma\n",
    "        self.delta = self.dashboard.delta\n",
    "  \n",
    "        self.print_image()\n",
    "        \n",
    "        image_container = widgets.Box([self.image], layout=Layout(width=\"100%\"))\n",
    "        \n",
    "        children = [\n",
    "   #     image_container,\n",
    "        self.image,   \n",
    "        ]\n",
    "        super().__init__(children, layout=Layout(width=\"100%\"))\n",
    "        \n",
    "    def print_image(self):\n",
    "        #try:\n",
    "        #    import matplotlib.pyplot as plt\n",
    "        #except:\n",
    "        #    %pip install matplotlib -qqq\n",
    "        #    import matplotlib.pyplot as plt\n",
    "        fig = plt.figure(figsize=(10, 6))\n",
    "        \n",
    "        \n",
    "        Param = [self.alpha, self.beta, self.gamma, self.delta]\n",
    "        XX = solve(Init, T, Param)\n",
    "        plot(XX)\n",
    "        \n",
    "        \n",
    "        image_file = BytesIO()\n",
    "        fig.savefig(fname = image_file)\n",
    "        image_file.seek(0)\n",
    "        image_data = image_file.read()\n",
    "        self.image.value = image_data\n",
    "#            self.image.width = 1500\n",
    "#           self.image.height = 2000\n",
    "        plt.close()\n",
    "\n",
    "#          file = open(nom, \"rb\")\n",
    "#         image = file.read()\n",
    "        #plt.imshow(image)\n",
    "#        self.image.value = image\n",
    " #       self.image.format = 'png'\n",
    "\n",
    "\n",
    "        return\n",
    "        \n",
    "\n",
    "    def change_alpha(self, change):\n",
    "        self.alpha = change\n",
    "        self.print_image()\n",
    "\n",
    "    def change_beta(self, change):\n",
    "        self.beta = change\n",
    "        self.print_image()\n",
    "        \n",
    "    def change_gamma(self, change):\n",
    "        self.gamma = change\n",
    "        self.print_image()\n",
    "\n",
    "    def change_delta(self, change):\n",
    "        self.delta = change\n",
    "        self.print_image()"
   ]
  },
  {
   "cell_type": "code",
   "execution_count": 9,
   "id": "ed1199d0",
   "metadata": {},
   "outputs": [],
   "source": [
    "class Dashboard(widgets.VBox):\n",
    "    def __init__(self):\n",
    "        self.alpha = alpha0\n",
    "        self.beta = beta0\n",
    "        self.gamma = gamma0\n",
    "        self.delta = delta0\n",
    "    \n",
    "        self.select_box = Select_box(self)\n",
    "    #    self.text_box = Text_box(self)\n",
    "        self.image_box = Image_box(self)\n",
    "\n",
    "        C1 = widgets.Box([self.image_box], layout=Layout(width=\"65%\"))\n",
    "        C2 = widgets.Box([self.select_box], layout=Layout(width=\"32%\"))\n",
    "\n",
    "        #rowA = widgets.Box([self.image_box, self.select_box], layout=Layout(width=\"100%\"))\n",
    "        rowA = widgets.Box([C1, C2], layout=Layout(width=\"100%\"))\n",
    "        super().__init__([rowA], layout=Layout(width=\"100%\"))\n",
    "    \n",
    "\n",
    "\n",
    "    def on_alpha_selected(self, change):\n",
    "        self.alpha = change[\"new\"]\n",
    "        self.image_box.change_alpha(self.alpha)\n",
    "        \n",
    "    def on_beta_selected(self, change):\n",
    "        self.beta = change[\"new\"]\n",
    "        self.image_box.change_beta(self.beta)\n",
    "        \n",
    "    def on_gamma_selected(self, change):\n",
    "        self.gamma = change[\"new\"]\n",
    "        self.image_box.change_gamma(self.gamma)\n",
    "        \n",
    "    def on_delta_selected(self, change):\n",
    "        self.delta = change[\"new\"]\n",
    "        self.image_box.change_delta(self.delta)"
   ]
  },
  {
   "cell_type": "code",
   "execution_count": 10,
   "id": "68871519",
   "metadata": {},
   "outputs": [
    {
     "data": {
      "application/vnd.jupyter.widget-view+json": {
       "model_id": "4f6eb0e6826e44e581465d841e2c8adf",
       "version_major": 2,
       "version_minor": 0
      },
      "text/plain": [
       "Dashboard(children=(Box(children=(Box(children=(Image_box(children=(Image(value=b'\\x89PNG\\r\\n\\x1a\\n\\x00\\x00\\x0…"
      ]
     },
     "metadata": {},
     "output_type": "display_data"
    }
   ],
   "source": [
    "Dashboard()"
   ]
  }
 ],
 "metadata": {
  "kernelspec": {
   "display_name": "Python 3",
   "language": "python",
   "name": "python3"
  },
  "language_info": {
   "codemirror_mode": {
    "name": "ipython",
    "version": 3
   },
   "file_extension": ".py",
   "mimetype": "text/x-python",
   "name": "python",
   "nbconvert_exporter": "python",
   "pygments_lexer": "ipython3",
   "version": "3.8.10"
  }
 },
 "nbformat": 4,
 "nbformat_minor": 5
}
